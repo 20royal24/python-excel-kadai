{
  "nbformat": 4,
  "nbformat_minor": 0,
  "metadata": {
    "colab": {
      "provenance": []
    },
    "kernelspec": {
      "name": "python3",
      "display_name": "Python 3"
    },
    "language_info": {
      "name": "python"
    }
  },
  "cells": [
    {
      "cell_type": "code",
      "execution_count": 8,
      "metadata": {
        "id": "qa0_P_Vwxv3u"
      },
      "outputs": [],
      "source": [
        "import pandas as pd\n",
        "import openpyxl\n",
        "from openpyxl import load_workbook\n",
        "from openpyxl.styles import PatternFill\n",
        "\n",
        "#エクセルデータの連結\n",
        "df_2022 = pd.read_excel('2022_年間売上表.xlsx', sheet_name='Sheet1')\n",
        "df_2023 = pd.read_excel('2023_年間売上表.xlsx', sheet_name='Sheet1')\n",
        "df_all=pd.concat([df_2022,df_2023])\n",
        "\n",
        "#「商品」「売上年」ごとに集計\n",
        "df_grouped=df_all.groupby(['商品','売上年']).sum().reset_index()\n",
        "\n",
        "#新規ファイル「売上集計表」に書き込む\n",
        "output_file='売上集計表.xlsx'\n",
        "df_grouped.to_excel(output_file,index=False,sheet_name='sheet1')\n",
        "#ヘッダー書式変更\n",
        "wb=load_workbook(output_file)\n",
        "ws=wb.active\n",
        "header_fill=PatternFill(start_color='F2F2F2',end_color='F2F2F2',fill_type='solid')\n",
        "for cell in ws[1]:\n",
        "  cell.fill=header_fill\n",
        "\n",
        "ws.column_dimensions['A'].width = 15\n",
        "ws.column_dimensions['B'].width = 10\n",
        "ws.column_dimensions['C'].width = 15\n",
        "\n",
        "wb.save(output_file)"
      ]
    }
  ]
}