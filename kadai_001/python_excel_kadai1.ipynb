{
  "nbformat": 4,
  "nbformat_minor": 0,
  "metadata": {
    "colab": {
      "provenance": []
    },
    "kernelspec": {
      "name": "python3",
      "display_name": "Python 3"
    },
    "language_info": {
      "name": "python"
    }
  },
  "cells": [
    {
      "cell_type": "code",
      "execution_count": 15,
      "metadata": {
        "id": "jAV2gRtS03pG"
      },
      "outputs": [],
      "source": [
        "import openpyxl\n",
        "from datetime import datetime\n",
        "workbook=openpyxl.Workbook()\n",
        "sheet=workbook.active\n",
        "\n",
        "sheet['B2']='請求書'\n",
        "sheet['B4']='株式会社ABC'\n",
        "sheet['B5']='〒101-0022 東京都千代田区神田練塀町300'\n",
        "sheet['B6']='TEL:03-1234-5678 FAX:03-1234-5678'\n",
        "sheet['B7']='担当者名:鈴木一郎 様'\n",
        "sheet['F4']='No.'\n",
        "sheet['F5']='日付'\n",
        "sheet['G4']='0001'\n",
        "sheet['G5']='2023/04/08'\n",
        "\n",
        "sheet['B10']='商品名'\n",
        "sheet['B11']='商品A'\n",
        "sheet['B12']='商品B'\n",
        "\n",
        "sheet['C10']='数量'\n",
        "sheet['C11']='2'\n",
        "sheet['C12']='1'\n",
        "\n",
        "sheet['D10']='単価'\n",
        "sheet['D11']='10000'\n",
        "sheet['D12']='15000'\n",
        "\n",
        "sheet['E10']='金額'\n",
        "sheet['E11']='20000'\n",
        "sheet['E12']='15000'\n",
        "sheet['E13']='35000'\n",
        "\n",
        "sheet['B15']='合計'\n",
        "sheet['B16']='消費税'\n",
        "sheet['B17']='税込合計'\n",
        "\n",
        "sheet['E15']='35000'\n",
        "sheet['E16']='3500'\n",
        "sheet['E17']='38500'\n",
        "\n",
        "sheet.column_dimensions['B'].width = 30\n",
        "sheet.column_dimensions['F'].width = 10\n",
        "sheet.column_dimensions['G'].width = 15\n",
        "\n",
        "today=datetime.today()\n",
        "請求書_filename=f\"請求書_{today.strftime('%Y%m%d')}.xlsx\"\n",
        "workbook.save(請求書_filename)"
      ]
    }
  ]
}